{
 "cells": [
  {
   "cell_type": "code",
   "execution_count": null,
   "id": "4467c49d-519c-4882-a716-d8120371902a",
   "metadata": {},
   "outputs": [],
   "source": [
    "# pip install -U --upgrade tensorflow\n",
    "!pip install tensorflow\n",
    "\n"
   ]
  },
  {
   "cell_type": "code",
   "execution_count": 3,
   "id": "9d990ecc-b38b-4175-8eae-a5bff9cbe869",
   "metadata": {},
   "outputs": [],
   "source": [
    "import os\n",
    "os.environ[\"CUDA_VISIBLE_DEVICES\"] = \"-1\""
   ]
  },
  {
   "cell_type": "code",
   "execution_count": null,
   "id": "1ae5bf09-2df5-49d3-bac4-8c819857b523",
   "metadata": {},
   "outputs": [],
   "source": [
    "# import necessary libraries\n",
    "!pip install imageio\n",
    "from tensorflow import keras\n",
    "import tensorflow as tf\n",
    "print(tf.__version__)\n",
    "\n",
    "import matplotlib.pyplot as plt\n",
    "import tensorflow as tf\n",
    "import pandas as pd\n",
    "import numpy as np\n",
    "import imageio\n",
    "import cv2\n",
    "import os"
   ]
  },
  {
   "cell_type": "code",
   "execution_count": null,
   "id": "144646bf-732d-41e2-afbb-f72c2c893bb1",
   "metadata": {},
   "outputs": [],
   "source": [
    "print(\"Hello Wolrd\")"
   ]
  },
  {
   "cell_type": "code",
   "execution_count": null,
   "id": "6100cce9-2025-4ebd-a676-222495485d40",
   "metadata": {},
   "outputs": [],
   "source": []
  }
 ],
 "metadata": {
  "kernelspec": {
   "display_name": "Python 3 (ipykernel)",
   "language": "python",
   "name": "python3"
  },
  "language_info": {
   "codemirror_mode": {
    "name": "ipython",
    "version": 3
   },
   "file_extension": ".py",
   "mimetype": "text/x-python",
   "name": "python",
   "nbconvert_exporter": "python",
   "pygments_lexer": "ipython3",
   "version": "3.12.8"
  }
 },
 "nbformat": 4,
 "nbformat_minor": 5
}
