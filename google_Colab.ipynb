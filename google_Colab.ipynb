{
 "cells": [
  {
   "cell_type": "code",
   "execution_count": 2,
   "metadata": {},
   "outputs": [],
   "source": [
    "# 1. IMPORT NECESSARY LIBRARIES:\n",
    "\n",
    "import os\n",
    "os.environ['TF_ENABLE_ONEDNN_OPTS'] = '0'\n",
    "\n",
    "import pandas as pd\n",
    "import numpy as np\n",
    "import matplotlib.pyplot as plt\n",
    "import seaborn as sns\n",
    "from sklearn.preprocessing import LabelEncoder, MinMaxScaler\n",
    "from sklearn.model_selection import train_test_split\n",
    "import torch\n",
    "import torch.nn as nn\n",
    "import torch.optim as optim\n",
    "from torch.utils.data import DataLoader, TensorDataset"
   ]
  },
  {
   "cell_type": "code",
   "execution_count": 3,
   "metadata": {},
   "outputs": [],
   "source": [
    "# 2. IMPORT DATASET:\n",
    "ipl = pd.read_csv('E:/Machine Learning/Machine Learning/Machine_Learning_Projects/Machine_Learning_Projects/1. IPL Score Prediction/ipl_data.csv')"
   ]
  },
  {
   "cell_type": "code",
   "execution_count": 4,
   "metadata": {},
   "outputs": [],
   "source": [
    "# 3. DATA PRE-PROCESSING:\n",
    "# 3.1 Drop unnecessary columns\n",
    "df = ipl.drop(['date', 'runs', 'wickets', 'overs', 'runs_last_5', 'wickets_last_5','mid', 'striker', 'non-striker'], axis=1)"
   ]
  },
  {
   "cell_type": "code",
   "execution_count": 5,
   "metadata": {},
   "outputs": [],
   "source": [
    "# 3.2 Define the x (independent variable) and y (dependent variable)\n",
    "x = df.drop(['total'], axis=1)\n",
    "y = df['total']"
   ]
  },
  {
   "cell_type": "code",
   "execution_count": 6,
   "metadata": {},
   "outputs": [],
   "source": [
    "# 3.3 Label Encoding\n",
    "venue_encoder = LabelEncoder()\n",
    "bat_team_encoder = LabelEncoder()\n",
    "bowl_team_encoder = LabelEncoder()\n",
    "batsman_encoder = LabelEncoder()\n",
    "bowler_encoder = LabelEncoder()\n",
    "\n",
    "x['venue'] = venue_encoder.fit_transform(x['venue'])\n",
    "x['bat_team'] = bat_team_encoder.fit_transform(x['bat_team'])\n",
    "x['bowl_team'] = bowl_team_encoder.fit_transform(x['bowl_team'])\n",
    "x['batsman'] = batsman_encoder.fit_transform(x['batsman'])\n",
    "x['bowler'] = bowler_encoder.fit_transform(x['bowler'])"
   ]
  },
  {
   "cell_type": "code",
   "execution_count": 7,
   "metadata": {},
   "outputs": [],
   "source": [
    "# 3.4 Train-Test Split\n",
    "x_train, x_test, y_train, y_test = train_test_split(x, y, test_size=0.3, random_state=42)"
   ]
  },
  {
   "cell_type": "code",
   "execution_count": 8,
   "metadata": {},
   "outputs": [],
   "source": [
    "# 3.5 Feature Scaling\n",
    "scaler = MinMaxScaler()\n",
    "x_train_scaled = scaler.fit_transform(x_train)\n",
    "x_test_scaled = scaler.transform(x_test)"
   ]
  },
  {
   "cell_type": "code",
   "execution_count": 9,
   "metadata": {},
   "outputs": [],
   "source": [
    "# 4. CONVERT DATA TO PYTORCH TENSORS:\n",
    "# # 4.1 Convert to PyTorch tensors\n",
    "x_train_tensor = torch.tensor(x_train_scaled, dtype=torch.float32)\n",
    "y_train_tensor = torch.tensor(y_train.values, dtype=torch.float32).view(-1, 1)\n",
    "x_test_tensor = torch.tensor(x_test_scaled, dtype=torch.float32)\n",
    "y_test_tensor = torch.tensor(y_test.values, dtype=torch.float32).view(-1, 1)"
   ]
  },
  {
   "cell_type": "code",
   "execution_count": 10,
   "metadata": {},
   "outputs": [],
   "source": [
    "# 4.2 Create DataLoader\n",
    "train_dataset = TensorDataset(x_train_tensor, y_train_tensor)\n",
    "test_dataset = TensorDataset(x_test_tensor, y_test_tensor)\n",
    "\n",
    "train_loader = DataLoader(train_dataset, batch_size=64, shuffle=True)\n",
    "test_loader = DataLoader(test_dataset, batch_size=64, shuffle=False)"
   ]
  },
  {
   "cell_type": "code",
   "execution_count": 11,
   "metadata": {},
   "outputs": [],
   "source": [
    "# 5. DEFINE THE NEURAL NETWORK\n",
    "class IPLScorePredictor(nn.Module):\n",
    "    def __init__(self):\n",
    "        super(IPLScorePredictor, self).__init__()\n",
    "        self.fc1 = nn.Linear(x_train_tensor.shape[1], 512)\n",
    "        self.fc2 = nn.Linear(512, 216)\n",
    "        self.fc3 = nn.Linear(216, 1)\n",
    "        \n",
    "    def forward(self, x):\n",
    "        x = torch.relu(self.fc1(x))\n",
    "        x = torch.relu(self.fc2(x))\n",
    "        x = self.fc3(x)\n",
    "        return x\n",
    "\n",
    "model = IPLScorePredictor()"
   ]
  },
  {
   "cell_type": "code",
   "execution_count": 12,
   "metadata": {},
   "outputs": [],
   "source": [
    "# 6. COMPILING THE MODEL.\n",
    "optimizer = optim.Adam(model.parameters(), lr=0.001)\n",
    "criterion = nn.HuberLoss()  # equivalent to 'huber' loss in Keras"
   ]
  },
  {
   "cell_type": "code",
   "execution_count": 13,
   "metadata": {},
   "outputs": [],
   "source": [
    "# 7. MODEL TRAINING\n",
    "num_epochs = 50\n",
    "train_losses = []\n",
    "val_losses = []"
   ]
  },
  {
   "cell_type": "code",
   "execution_count": 14,
   "metadata": {},
   "outputs": [
    {
     "name": "stdout",
     "output_type": "stream",
     "text": [
      "Epoch 1/50, Train Loss: 31.1917, Val Loss: 22.3681\n",
      "Epoch 2/50, Train Loss: 22.2070, Val Loss: 21.8385\n",
      "Epoch 3/50, Train Loss: 22.0876, Val Loss: 21.7440\n",
      "Epoch 4/50, Train Loss: 21.9304, Val Loss: 21.5595\n",
      "Epoch 5/50, Train Loss: 21.7475, Val Loss: 21.5414\n",
      "Epoch 6/50, Train Loss: 21.6206, Val Loss: 21.6325\n",
      "Epoch 7/50, Train Loss: 21.4665, Val Loss: 21.6760\n",
      "Epoch 8/50, Train Loss: 21.3714, Val Loss: 21.1784\n",
      "Epoch 9/50, Train Loss: 21.2495, Val Loss: 20.8828\n",
      "Epoch 10/50, Train Loss: 21.1278, Val Loss: 20.8643\n",
      "Epoch 11/50, Train Loss: 21.0116, Val Loss: 20.6580\n",
      "Epoch 12/50, Train Loss: 20.9051, Val Loss: 20.7970\n",
      "Epoch 13/50, Train Loss: 20.7540, Val Loss: 20.5085\n",
      "Epoch 14/50, Train Loss: 20.7133, Val Loss: 20.3740\n",
      "Epoch 15/50, Train Loss: 20.5841, Val Loss: 20.5861\n",
      "Epoch 16/50, Train Loss: 20.5183, Val Loss: 20.3897\n",
      "Epoch 17/50, Train Loss: 20.3604, Val Loss: 20.2045\n",
      "Epoch 18/50, Train Loss: 20.2896, Val Loss: 20.6962\n",
      "Epoch 19/50, Train Loss: 20.1702, Val Loss: 19.9634\n",
      "Epoch 20/50, Train Loss: 20.1292, Val Loss: 20.1539\n",
      "Epoch 21/50, Train Loss: 19.9996, Val Loss: 19.7208\n",
      "Epoch 22/50, Train Loss: 19.8797, Val Loss: 19.6935\n",
      "Epoch 23/50, Train Loss: 19.7808, Val Loss: 19.5692\n",
      "Epoch 24/50, Train Loss: 19.6819, Val Loss: 19.4453\n",
      "Epoch 25/50, Train Loss: 19.6093, Val Loss: 19.3654\n",
      "Epoch 26/50, Train Loss: 19.5398, Val Loss: 20.1973\n",
      "Epoch 27/50, Train Loss: 19.4128, Val Loss: 19.2244\n",
      "Epoch 28/50, Train Loss: 19.2955, Val Loss: 18.9881\n",
      "Epoch 29/50, Train Loss: 19.2128, Val Loss: 19.2051\n",
      "Epoch 30/50, Train Loss: 19.1329, Val Loss: 19.4161\n",
      "Epoch 31/50, Train Loss: 19.0480, Val Loss: 19.1075\n",
      "Epoch 32/50, Train Loss: 18.9842, Val Loss: 18.9419\n",
      "Epoch 33/50, Train Loss: 18.9210, Val Loss: 18.7993\n",
      "Epoch 34/50, Train Loss: 18.8521, Val Loss: 19.0092\n",
      "Epoch 35/50, Train Loss: 18.7622, Val Loss: 18.6309\n",
      "Epoch 36/50, Train Loss: 18.7545, Val Loss: 18.6786\n",
      "Epoch 37/50, Train Loss: 18.6715, Val Loss: 18.5126\n",
      "Epoch 38/50, Train Loss: 18.5674, Val Loss: 18.6293\n",
      "Epoch 39/50, Train Loss: 18.5441, Val Loss: 18.2840\n",
      "Epoch 40/50, Train Loss: 18.4469, Val Loss: 18.4061\n",
      "Epoch 41/50, Train Loss: 18.4132, Val Loss: 18.2847\n",
      "Epoch 42/50, Train Loss: 18.3521, Val Loss: 18.0721\n",
      "Epoch 43/50, Train Loss: 18.2643, Val Loss: 18.4228\n",
      "Epoch 44/50, Train Loss: 18.2188, Val Loss: 18.9340\n",
      "Epoch 45/50, Train Loss: 18.1075, Val Loss: 18.4156\n",
      "Epoch 46/50, Train Loss: 18.0754, Val Loss: 17.9099\n",
      "Epoch 47/50, Train Loss: 17.9828, Val Loss: 17.8344\n",
      "Epoch 48/50, Train Loss: 17.9659, Val Loss: 17.7370\n",
      "Epoch 49/50, Train Loss: 17.8674, Val Loss: 17.7372\n",
      "Epoch 50/50, Train Loss: 17.7988, Val Loss: 17.9637\n"
     ]
    }
   ],
   "source": [
    "# 7.1 Train the model\n",
    "for epoch in range(num_epochs):\n",
    "    model.train()\n",
    "    train_loss = 0\n",
    "    for xb, yb in train_loader:\n",
    "        optimizer.zero_grad()\n",
    "        preds = model(xb)\n",
    "        loss = criterion(preds, yb)\n",
    "        loss.backward()\n",
    "        optimizer.step()\n",
    "        train_loss += loss.item()\n",
    "    \n",
    "    train_loss /= len(train_loader)\n",
    "    train_losses.append(train_loss)\n",
    "    \n",
    "    model.eval()\n",
    "    val_loss = 0\n",
    "    with torch.no_grad():\n",
    "        for xb, yb in test_loader:\n",
    "            preds = model(xb)\n",
    "            loss = criterion(preds, yb)\n",
    "            val_loss += loss.item()\n",
    "    \n",
    "    val_loss /= len(test_loader)\n",
    "    val_losses.append(val_loss)\n",
    "    \n",
    "    print(f\"Epoch {epoch+1}/{num_epochs}, Train Loss: {train_loss:.4f}, Val Loss: {val_loss:.4f}\")"
   ]
  },
  {
   "cell_type": "code",
   "execution_count": 15,
   "metadata": {},
   "outputs": [
    {
     "data": {
      "image/png": "[encoded data removed]",
      "text/plain": [
       "<Figure size 640x480 with 1 Axes>"
      ]
     },
     "metadata": {},
     "output_type": "display_data"
    }
   ],
   "source": [
    "# 7.2 Plot training and validation losses\n",
    "plt.plot(train_losses, label='Train Loss')\n",
    "plt.plot(val_losses, label='Validation Loss')\n",
    "plt.xlabel('Epochs')\n",
    "plt.ylabel('Loss')\n",
    "plt.title('Training and Validation Loss')\n",
    "plt.legend()\n",
    "plt.show()"
   ]
  },
  {
   "cell_type": "code",
   "execution_count": 16,
   "metadata": {},
   "outputs": [],
   "source": [
    "# 8. MODEL EVALUATION\n",
    "model.eval()\n",
    "with torch.no_grad():\n",
    "    preds = model(x_test_tensor).numpy()"
   ]
  },
  {
   "cell_type": "code",
   "execution_count": 17,
   "metadata": {},
   "outputs": [
    {
     "name": "stdout",
     "output_type": "stream",
     "text": [
      "Mean Absolute Error:  18.44329909893589\n",
      "Mean Square Error:  650.1230648165097\n"
     ]
    }
   ],
   "source": [
    "# 8.1 Calculate MSE and MAE\n",
    "from sklearn.metrics import mean_absolute_error, mean_squared_error\n",
    "mae = mean_absolute_error(y_test, preds)\n",
    "mse = mean_squared_error(y_test, preds)\n",
    "print(\"Mean Absolute Error: \", mae)\n",
    "print(\"Mean Square Error: \", mse)"
   ]
  }
 ],
 "metadata": {
  "kernelspec": {
   "display_name": "Python 3",
   "language": "python",
   "name": "python3"
  },
  "language_info": {
   "codemirror_mode": {
    "name": "ipython",
    "version": 3
   },
   "file_extension": ".py",
   "mimetype": "text/x-python",
   "name": "python",
   "nbconvert_exporter": "python",
   "pygments_lexer": "ipython3",
   "version": "3.12.2"
  }
 },
 "nbformat": 4,
 "nbformat_minor": 2
}
